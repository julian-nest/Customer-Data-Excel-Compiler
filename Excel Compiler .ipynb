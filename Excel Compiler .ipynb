{
 "cells": [
  {
   "cell_type": "markdown",
   "id": "428e3c87-80e9-491d-b849-6c6ed1b67fdb",
   "metadata": {},
   "source": [
    "## Excel Compiler Code\n",
    "##### By Julian Thong Joon Yip"
   ]
  },
  {
   "cell_type": "code",
   "execution_count": 2,
   "id": "b28f2cd3-f61a-4a6d-a456-f6f1c35ffd58",
   "metadata": {},
   "outputs": [
    {
     "name": "stdout",
     "output_type": "stream",
     "text": [
      "Master file created at: C:\\Users\\MYThongJJu\\Desktop\\Customer Excel Compiler\\master_file.xlsx\n"
     ]
    }
   ],
   "source": [
    "import pandas as pd\n",
    "import os\n",
    "\n",
    "# Define the folder and file names\n",
    "folder_name = 'Customer Excel Compiler'\n",
    "file_name = 'Customer Data.xlsx'\n",
    "\n",
    "# Construct the file path dynamically\n",
    "file_path = os.path.join(os.path.expanduser('~'), 'Desktop', folder_name, file_name)\n",
    "\n",
    "# Check if the file exists\n",
    "if not os.path.exists(file_path):\n",
    "    print(f\"The file {file_path} does not exist.\")\n",
    "else:\n",
    "    # Load the Excel file with specifying the dtype for GTIN column to avoid scientific notation\n",
    "    excel_file = pd.ExcelFile(file_path)\n",
    "    excel_dtypes = {'GTIN': str}  # Specify dtype as string to avoid scientific notation\n",
    "\n",
    "    # Filter out the sheet named \"Data Table\"\n",
    "    sheet_names = [sheet_name for sheet_name in excel_file.sheet_names if sheet_name != 'Date Table']\n",
    "\n",
    "    # Read data from remaining sheets\n",
    "    df_dict = pd.read_excel(excel_file, sheet_name=sheet_names, dtype=excel_dtypes)\n",
    "\n",
    "    # Initialize an empty list to store DataFrames\n",
    "    data_frames = []\n",
    "\n",
    "    # Loop through each sheet in the Excel file\n",
    "    for sheet_name, df in df_dict.items():\n",
    "        # Add a column for the sheet name\n",
    "        df['SheetName'] = sheet_name\n",
    "\n",
    "        # Convert the DataFrame from wide format to long format\n",
    "        df_long = df.melt(id_vars=['SubCategoryName', 'BaseProductName', 'Material', 'MaterialName', 'GTIN', 'SheetName'],\n",
    "                          var_name='YearMonth',\n",
    "                          value_name='Value')\n",
    "\n",
    "        # Append the long format DataFrame to the list\n",
    "        data_frames.append(df_long)\n",
    "\n",
    "    # Check if there are any DataFrames to concatenate\n",
    "    if data_frames:\n",
    "        # Concatenate all DataFrames in the list into one master DataFrame\n",
    "        master_df = pd.concat(data_frames, ignore_index=True)\n",
    "\n",
    "        # Specify the output path for the master file\n",
    "        output_file_path = os.path.join(os.path.expanduser('~'), 'Desktop', folder_name, 'master_file.xlsx')\n",
    "\n",
    "        # Check if the output file already exists\n",
    "        if os.path.exists(output_file_path):\n",
    "            os.remove(output_file_path)  # Delete the file if it exists\n",
    "\n",
    "        # Export the master DataFrame to a new Excel file\n",
    "        master_df.to_excel(output_file_path, index=False)\n",
    "\n",
    "        print(f\"Master file created at: {output_file_path}\")\n",
    "    else:\n",
    "        print(\"No valid data found to compile.\")\n"
   ]
  },
  {
   "cell_type": "markdown",
   "id": "d5304860-041b-465b-99dc-2cbef46ce5f6",
   "metadata": {},
   "source": []
  },
  {
   "cell_type": "code",
   "execution_count": 5,
   "id": "a640a197-7760-434c-be2d-e9de82021a91",
   "metadata": {},
   "outputs": [
    {
     "name": "stdout",
     "output_type": "stream",
     "text": [
      "Summary sheet added/replaced successfully.\n"
     ]
    }
   ],
   "source": [
    "import pandas as pd\n",
    "import os\n",
    "import math\n",
    "\n",
    "# Define the folder and file names\n",
    "folder_name = 'Customer Excel Compiler'\n",
    "file_name = 'Customer Data.xlsx'\n",
    "\n",
    "# Construct the file path dynamically\n",
    "file_path = os.path.join(os.path.expanduser('~'), 'Desktop', folder_name, file_name)\n",
    "output_file_path = os.path.join(os.path.expanduser('~'), 'Desktop', folder_name, 'master_file.xlsx')\n",
    "\n",
    "# Read the \"Date Table\" sheet from the original Excel file\n",
    "date_table = pd.read_excel(file_path, sheet_name='Date Table')\n",
    "\n",
    "# Calculate summary data\n",
    "summary_data = master_df.groupby(['GTIN', 'YearMonth']).agg({'Value': 'sum'}).reset_index()\n",
    "summary_data['YearMonth'] = summary_data['YearMonth'].astype(str)  # Convert YearMonth to string\n",
    "\n",
    "# Merge summary_data with date_table based on YearMonth\n",
    "summary_data = summary_data.merge(date_table[['YearMonth', 'WeekNo']], on='YearMonth', how='left')\n",
    "\n",
    "# Calculate forecast_qty\n",
    "summary_data['forecast_qty'] = summary_data['Value'] / summary_data['WeekNo']\n",
    "summary_data['forecast_qty'] = summary_data['forecast_qty'].apply(lambda x: math.ceil(x))  # Round up to the nearest integer\n",
    "\n",
    "# Rename columns\n",
    "summary_data.rename(columns={'GTIN': 'product_code', 'Value': 'total_value'}, inplace=True)\n",
    "\n",
    "# Create a new Excel writer object\n",
    "with pd.ExcelWriter(output_file_path, engine='openpyxl', mode='a') as writer:\n",
    "    if 'summary' in pd.ExcelFile(output_file_path).sheet_names:\n",
    "        # Remove existing 'summary' sheet\n",
    "        writer.book.remove(writer.book['summary'])\n",
    "\n",
    "    # Write the summary data to a new sheet\n",
    "    summary_data.to_excel(writer, sheet_name='summary', index=False)\n",
    "\n",
    "# Check if the summary sheet was successfully added or replaced\n",
    "if 'summary' in pd.ExcelFile(output_file_path).sheet_names:\n",
    "    print(\"Summary sheet added/replaced successfully.\")\n",
    "else:\n",
    "    print(\"Failed to add/replace the summary sheet.\")\n"
   ]
  },
  {
   "attachments": {
    "91b71ecf-bedb-4308-b927-6c95cbd23551.png": {
     "image/png": "[encoded data removed]"
    }
   },
   "cell_type": "markdown",
   "id": "f0492416-f323-4333-aa69-90fc240b96e6",
   "metadata": {},
   "source": [
    "#### Code to create \"Summary Year-Week\" sheet in master_file\n",
    "- product_code : Taken from GTIN in summary sheet\n",
    "- year_month_week: Added number of weeks for each Year_Month based on the \"Customer Data\" Date Table Sheet\n",
    "- year_week: Combination of the Year and Week in format (yyyymm)\n",
    "- forecast_qty: Taken from summary sheet and duplicated for each product_code in a given year_month\n",
    "\n",
    "![image.png](attachment:91b71ecf-bedb-4308-b927-6c95cbd23551.png)"
   ]
  },
  {
   "cell_type": "code",
   "execution_count": 6,
   "id": "4fcc69ad-183d-418e-b9e9-f67341e581f3",
   "metadata": {},
   "outputs": [
    {
     "name": "stdout",
     "output_type": "stream",
     "text": [
      "Summary Year-Week sheet created successfully.\n"
     ]
    }
   ],
   "source": [
    "import pandas as pd\n",
    "\n",
    "# Define the folder and file names\n",
    "folder_name = 'Customer Excel Compiler'\n",
    "file_name = 'Customer Data.xlsx'\n",
    "\n",
    "# Construct the file path dynamically\n",
    "file_path = os.path.join(os.path.expanduser('~'), 'Desktop', folder_name, file_name)\n",
    "output_file_path = os.path.join(os.path.expanduser('~'), 'Desktop', folder_name, 'master_file.xlsx')\n",
    "\n",
    "# Specify the paths to your Excel files\n",
    "file_path_master = os.path.join(os.path.expanduser('~'), 'Desktop', folder_name, 'master_file.xlsx')\n",
    "\n",
    "# Read the 'summary' sheet from the Excel file\n",
    "summary_df = pd.read_excel(file_path_master, sheet_name='summary')\n",
    "\n",
    "# Read the 'Date Table' sheet from the Customer file\n",
    "date_table_df = pd.read_excel(file_path, sheet_name='Date Table')\n",
    "\n",
    "# Merge the summary_df with date_table_df on 'YearMonth' to add 'WeekOffset' column\n",
    "expanded_summary_df = summary_df.merge(date_table_df[['YearMonth', 'WeekOffset']], on='YearMonth', how='left')\n",
    "\n",
    "# Create an empty list to store the expanded summary data\n",
    "expanded_summary_data = []\n",
    "\n",
    "# Iterate through each row in the summary DataFrame\n",
    "for _, row in expanded_summary_df.iterrows():\n",
    "    # Format product_code to match GTIN format (leading zeros)\n",
    "    product_code = str(row['product_code']).zfill(14)\n",
    "    year_month = row['YearMonth']\n",
    "    week_no = row['WeekNo']\n",
    "    forecast_qty = row['forecast_qty']\n",
    "    week_offset = row['WeekOffset']\n",
    "    \n",
    "    # Create new rows for each week based on the 'WeekNo' value\n",
    "    for week in range(1, week_no + 1):\n",
    "        year_month_week = f\"{year_month}-{str(week).zfill(2)}\"  # Combine YearMonth and week number\n",
    "        # Calculate year_week by adding WeekOffset to the week number\n",
    "        year_week = int(f\"{year_month.split('-')[0]}{week + week_offset:02}\")  # Year + week\n",
    "        expanded_summary_data.append({'product_code': product_code, 'year_month_week': year_month_week, 'year_week': year_week, 'forecast_qty': forecast_qty})\n",
    "\n",
    "# Create a new DataFrame from the expanded summary data\n",
    "expanded_summary_df = pd.DataFrame(expanded_summary_data)\n",
    "\n",
    "# Create a new Excel writer object\n",
    "with pd.ExcelWriter(output_file_path, engine='openpyxl', mode='a') as writer:\n",
    "    # Replace the existing 'Summary Year-Week' sheet with the new one\n",
    "    if 'Summary Year-Week' in pd.ExcelFile(output_file_path).sheet_names:\n",
    "        writer.book.remove(writer.book['Summary Year-Week'])\n",
    "    \n",
    "    # Write the expanded summary data to a new sheet\n",
    "    expanded_summary_df.to_excel(writer, sheet_name='Summary Year-Week', index=False)\n",
    "\n",
    "print(\"Summary Year-Week sheet created successfully.\")\n"
   ]
  },
  {
   "cell_type": "markdown",
   "id": "2f11bdd1-caeb-4807-a643-23a47120b1d5",
   "metadata": {},
   "source": [
    "## Below is testing code"
   ]
  },
  {
   "cell_type": "code",
   "execution_count": 10,
   "id": "98cc5f09-fedb-4650-88a1-0658353c356c",
   "metadata": {},
   "outputs": [
    {
     "name": "stdout",
     "output_type": "stream",
     "text": [
      "Summary Year-Week sheet created successfully.\n"
     ]
    }
   ],
   "source": [
    "import pandas as pd\n",
    "\n",
    "# Specify the path to your Excel file\n",
    "file_path = r'C:\\Users\\MYThongJJu\\Desktop\\Personal\\Working Files (Local)\\Kenneth AEON BIG baseline project\\master_file.xlsx'\n",
    "output_file_path = r'C:\\Users\\MYThongJJu\\Desktop\\Personal\\Working Files (Local)\\Kenneth AEON BIG baseline project\\master_file.xlsx'\n",
    "\n",
    "# Read the 'summary' sheet from the Excel file\n",
    "summary_df = pd.read_excel(file_path, sheet_name='summary')\n",
    "\n",
    "# Create an empty list to store the expanded summary data\n",
    "expanded_summary_data = []\n",
    "\n",
    "# Iterate through each row in the summary DataFrame\n",
    "for _, row in summary_df.iterrows():\n",
    "    # Format product_code to match GTIN format (leading zeros)\n",
    "    product_code = str(row['product_code']).zfill(14)\n",
    "    year_month = row['YearMonth']\n",
    "    week_no = row['WeekNo']\n",
    "    forecast_qty = row['forecast_qty']\n",
    "    \n",
    "    # Create new rows for each week based on the 'WeekNo' value\n",
    "    for week in range(1, week_no + 1):\n",
    "        year_month_week = f\"{year_month}-{str(week).zfill(2)}\"  # Combine YearMonth and week number\n",
    "        expanded_summary_data.append({'product_code': product_code, 'year_month_week': year_month_week, 'forecast_qty': forecast_qty})\n",
    "\n",
    "# Create a new DataFrame from the expanded summary data\n",
    "expanded_summary_df = pd.DataFrame(expanded_summary_data)\n",
    "\n",
    "# Create a new Excel writer object\n",
    "with pd.ExcelWriter(output_file_path, engine='openpyxl', mode='a') as writer:\n",
    "    # Replace the existing 'Summary Year-Week' sheet with the new one\n",
    "    if 'Summary Year-Week' in pd.ExcelFile(output_file_path).sheet_names:\n",
    "        writer.book.remove(writer.book['Summary Year-Week'])\n",
    "    \n",
    "    # Write the expanded summary data to a new sheet\n",
    "    expanded_summary_df.to_excel(writer, sheet_name='Summary Year-Week', index=False)\n",
    "\n",
    "print(\"Summary Year-Week sheet created successfully.\")\n"
   ]
  },
  {
   "cell_type": "code",
   "execution_count": 20,
   "id": "f1f3a1c7-36a9-4580-9f3e-8ca0f31299f9",
   "metadata": {},
   "outputs": [
    {
     "name": "stdout",
     "output_type": "stream",
     "text": [
      "Number of weeks in January 2022: 6\n"
     ]
    }
   ],
   "source": [
    "import calendar\n",
    "\n",
    "def num_weeks_in_month(year, month):\n",
    "    \"\"\"\n",
    "    Calculate the number of weeks in a given month and year.\n",
    "    \n",
    "    Args:\n",
    "    - year (int): The year.\n",
    "    - month (int): The month (1-12).\n",
    "    \n",
    "    Returns:\n",
    "    - num_weeks (int): The number of weeks in the month.\n",
    "    \"\"\"\n",
    "    num_weeks = len(calendar.monthcalendar(year, month))\n",
    "    return num_weeks\n",
    "\n",
    "# Example usage:\n",
    "year = 2022\n",
    "month = 1\n",
    "weeks_in_month = num_weeks_in_month(year, month)\n",
    "print(f\"Number of weeks in {calendar.month_name[month]} {year}: {weeks_in_month}\")\n"
   ]
  },
  {
   "cell_type": "code",
   "execution_count": null,
   "id": "eb96fd0c-ac49-4082-8f35-9c05248ab3df",
   "metadata": {},
   "outputs": [],
   "source": []
  },
  {
   "cell_type": "code",
   "execution_count": null,
   "id": "e230c3c2-880f-49d9-b7d9-8e744bcbc676",
   "metadata": {},
   "outputs": [],
   "source": []
  },
  {
   "cell_type": "code",
   "execution_count": 64,
   "id": "12ecd842-40a3-4de5-a850-65c12bc8bd29",
   "metadata": {},
   "outputs": [
    {
     "name": "stdout",
     "output_type": "stream",
     "text": [
      "2024-01: 5 full Monday to Friday weeks\n",
      "2024-02: 4 full Monday to Friday weeks\n",
      "2024-03: 5 full Monday to Friday weeks\n",
      "2024-04: 4 full Monday to Friday weeks\n",
      "2024-05: 5 full Monday to Friday weeks\n",
      "2024-06: 4 full Monday to Friday weeks\n",
      "2024-07: 4 full Monday to Friday weeks\n",
      "2024-08: 5 full Monday to Friday weeks\n",
      "2024-09: 4 full Monday to Friday weeks\n",
      "2024-10: 4 full Monday to Friday weeks\n",
      "2024-11: 5 full Monday to Friday weeks\n",
      "2024-12: 4 full Monday to Friday weeks\n"
     ]
    }
   ],
   "source": [
    "import calendar\n",
    "from datetime import date, timedelta\n",
    "\n",
    "def count_full_weeks(year):\n",
    "    month_full_weeks = {}\n",
    "    \n",
    "    for month in range(1, 13):\n",
    "        # Find the first day of the month and the total number of days in the month\n",
    "        first_day_of_month = date(year, month, 1)\n",
    "        num_days_in_month = calendar.monthrange(year, month)[1]\n",
    "        last_day_of_month = date(year, month, num_days_in_month)\n",
    "        \n",
    "        # Initialize counter for full weeks\n",
    "        full_weeks = 0\n",
    "        \n",
    "        # Start from the first day of the month\n",
    "        current_day = first_day_of_month\n",
    "        \n",
    "        # Iterate through the days of the month\n",
    "        while current_day <= last_day_of_month:\n",
    "            # Check if the current day is a Monday\n",
    "            if current_day.weekday() == 0:  # 0 = Monday, 1 = Tuesday, ..., 6 = Sunday\n",
    "                # Check if this week's Friday is within the same month\n",
    "                friday_of_week = current_day + timedelta(days=4)\n",
    "                if friday_of_week <= last_day_of_month:\n",
    "                    full_weeks += 1\n",
    "                else:\n",
    "                    # If Friday is not in the same month, count this week for the next month\n",
    "                    if month < 12:  # If not December\n",
    "                        next_month = month + 1\n",
    "                    else:\n",
    "                        next_month = 1  # Wrap around to January\n",
    "                        year += 1  # Increment the year\n",
    "\n",
    "                    if next_month not in month_full_weeks:\n",
    "                        month_full_weeks[next_month] = 0\n",
    "                    \n",
    "                    month_full_weeks[next_month] += 1\n",
    "                    break\n",
    "            # Move to the next day\n",
    "            current_day += timedelta(days=1)\n",
    "        \n",
    "        if month not in month_full_weeks:\n",
    "            month_full_weeks[month] = full_weeks\n",
    "        else:\n",
    "            month_full_weeks[month] += full_weeks\n",
    "    \n",
    "    return month_full_weeks\n",
    "\n",
    "# Print the number of full Monday to Friday weeks in each month of the year 2024\n",
    "year = 2024\n",
    "month_full_weeks = count_full_weeks(year)\n",
    "for month, weeks in sorted(month_full_weeks.items()):\n",
    "    print(f\"{year}-{month:02}: {weeks} full Monday to Friday weeks\")\n"
   ]
  },
  {
   "cell_type": "code",
   "execution_count": 62,
   "id": "c277cf36-c141-43e8-9879-4e215ad52ad1",
   "metadata": {},
   "outputs": [
    {
     "name": "stdout",
     "output_type": "stream",
     "text": [
      "2024-01: 4 Fridays\n",
      "2024-02: 4 Fridays\n",
      "2024-03: 5 Fridays\n",
      "2024-04: 4 Fridays\n",
      "2024-05: 5 Fridays\n",
      "2024-06: 4 Fridays\n",
      "2024-07: 4 Fridays\n",
      "2024-08: 5 Fridays\n",
      "2024-09: 4 Fridays\n",
      "2024-10: 4 Fridays\n",
      "2024-11: 5 Fridays\n",
      "2024-12: 4 Fridays\n"
     ]
    }
   ],
   "source": [
    "import calendar\n",
    "\n",
    "def count_fridays_in_month(year, month):\n",
    "    # Get the number of days in the month\n",
    "    num_days_in_month = calendar.monthrange(year, month)[1]\n",
    "    \n",
    "    # Initialize a counter for Fridays\n",
    "    num_fridays = 0\n",
    "    \n",
    "    # Iterate through each day of the month\n",
    "    for day in range(1, num_days_in_month + 1):\n",
    "        # Check if the day is a Friday (weekday() returns 4 for Friday)\n",
    "        if calendar.weekday(year, month, day) == 4:\n",
    "            num_fridays += 1\n",
    "    \n",
    "    return num_fridays\n",
    "\n",
    "# Print the number of Fridays in each month of the year 2024\n",
    "year = 2024\n",
    "for month in range(1, 13):\n",
    "    num_fridays = count_fridays_in_month(year, month)\n",
    "    print(f\"{year}-{month:02}: {num_fridays} Fridays\")\n"
   ]
  },
  {
   "cell_type": "code",
   "execution_count": 18,
   "id": "b2824f99-126c-4c92-871c-c4c1dd4ba7f8",
   "metadata": {},
   "outputs": [
    {
     "name": "stdout",
     "output_type": "stream",
     "text": [
      "Summary Year-Week sheet created successfully.\n"
     ]
    }
   ],
   "source": []
  },
  {
   "cell_type": "code",
   "execution_count": null,
   "id": "0b311ac5-cbf9-4af7-b922-e75b1da26aec",
   "metadata": {},
   "outputs": [],
   "source": []
  },
  {
   "cell_type": "code",
   "execution_count": null,
   "id": "9f66b01a-3f19-4a34-890a-15d9313e418f",
   "metadata": {},
   "outputs": [],
   "source": []
  },
  {
   "cell_type": "code",
   "execution_count": null,
   "id": "07587dff-c264-4019-9d3b-521664cf3e56",
   "metadata": {},
   "outputs": [],
   "source": []
  },
  {
   "cell_type": "code",
   "execution_count": null,
   "id": "eee5cef1-8d77-423d-8b6e-c11ae620ce95",
   "metadata": {},
   "outputs": [],
   "source": []
  }
 ],
 "metadata": {
  "kernelspec": {
   "display_name": "Python 3 (ipykernel)",
   "language": "python",
   "name": "python3"
  },
  "language_info": {
   "codemirror_mode": {
    "name": "ipython",
    "version": 3
   },
   "file_extension": ".py",
   "mimetype": "text/x-python",
   "name": "python",
   "nbconvert_exporter": "python",
   "pygments_lexer": "ipython3",
   "version": "3.11.7"
  }
 },
 "nbformat": 4,
 "nbformat_minor": 5
}
